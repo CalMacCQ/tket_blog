{
 "cells": [
  {
   "cell_type": "code",
   "execution_count": 1,
   "id": "07e5c942",
   "metadata": {},
   "outputs": [],
   "source": [
    "import warnings\n",
    "warnings.filterwarnings('ignore')"
   ]
  },
  {
   "cell_type": "markdown",
   "id": "c635cc8b",
   "metadata": {
    "tags": []
   },
   "source": [
    "# Introduction to Quantum Compilation with TKET"
   ]
  },
  {
   "cell_type": "markdown",
   "id": "fb6f4ea5-9cd5-4883-aaf9-3a55c3c4cfbd",
   "metadata": {},
   "source": [
    "\n",
    "<div class=\"alert alert-block alert-info\"> \n",
    " <p>In this blog post we will introduce some key ideas for compiling quantum circuits. We will also demonstrate some key features of TKET through its python interface.</p>\n",
    "  <ol>\n",
    "    <li>Constructing circuits </li>\n",
    "    <li>Converting between different circuit formats</li> \n",
    "    <li>Compiling circuits for different quantum devices and classical simulators</li> \n",
    "    <li>Optimising quantum circuits to improve their perfromance </li>\n",
    "  </ol>\n",
    "    We will assume some familiarity with quantum circuits as well as some basic knowledge of python programming and linear algebra. This notebook can be viewed on <nav><a href=”/css/”>Github</a> </nav></div>"
   ]
  },
  {
   "cell_type": "markdown",
   "id": "151f6de2",
   "metadata": {},
   "source": [
    "Present day quantum computers suffer from prohibitive noise and have complex constraints on the kinds of programs they can run. In general a non-trival compilation step is required to translate a program to a form that can be executed on a real quantum device."
   ]
  },
  {
   "cell_type": "markdown",
   "id": "ef4a3f75",
   "metadata": {
    "tags": []
   },
   "source": [
    "TKET is a quantum software toolkit and compiler designed to simplify quantum experiments. A traditional compiler can translate a human readable program to a form that can be executed as low level machine code. Analogously TKET can compile a high level description of a quantum algorithm to a form that can be implemented on a real quantum computer."
   ]
  },
  {
   "cell_type": "markdown",
   "id": "4571e848",
   "metadata": {
    "tags": []
   },
   "source": [
    "Importantly TKET has numerous optimisation tools to reduce the resources needed for near term quantum experiments. Such circuit optimisations can significantly improve the performance of algorithms by effectively mitigating against noise. In addition TKET has extension modules which enable the user to access hardware and simulators from different providers. These extensions also enable functionality with other popular quantum software packages including qiskit, cirq and more."
   ]
  },
  {
   "cell_type": "markdown",
   "id": "986e60d7",
   "metadata": {
    "tags": []
   },
   "source": [
    "## Circuit Basics in pytket"
   ]
  },
  {
   "cell_type": "markdown",
   "id": "ee35be64",
   "metadata": {},
   "source": [
    "Circuits can be defined and visualised easily using the pytket python interface. Let's define a simple circuit that prepares and measures the familiar Bell state. The state can be written using Dirac notation as follows."
   ]
  },
  {
   "cell_type": "markdown",
   "id": "916cd32e",
   "metadata": {},
   "source": [
    "$$ \\left| \\psi \\right\\rangle = \\frac{1}{\\sqrt{2}} \\big( \\left| 00 \\right\\rangle + \\left| 11 \\right\\rangle\\big) $$"
   ]
  },
  {
   "cell_type": "code",
   "execution_count": 18,
   "id": "7c577118",
   "metadata": {},
   "outputs": [
    {
     "data": {
      "text/html": [
       "\n",
       "\n",
       "\n",
       "\n",
       "\n",
       "\n",
       "<iframe srcdoc=\"\n",
       "&lt;!DOCTYPE html&gt;\n",
       "&lt;html lang=&#34;en&#34;&gt;\n",
       "&lt;head&gt;\n",
       "    &lt;meta charset=&#34;UTF-8&#34;&gt;\n",
       "\n",
       "    &lt;script type=&#34;application/javascript&#34; src=&#34;https://cdn.jsdelivr.net/npm/vue@3&#34;&gt;&lt;/script&gt;\n",
       "    &lt;script type=&#34;application/javascript&#34; src=&#34;https://unpkg.com/pytket-circuit-renderer@0.1/dist/pytket-circuit-renderer.umd.js&#34;&gt;&lt;/script&gt;\n",
       "    &lt;link rel=&#34;stylesheet&#34; href=&#34;https://unpkg.com/pytket-circuit-renderer@0.1/dist/pytket-circuit-renderer.css&#34;&gt;\n",
       "&lt;/head&gt;\n",
       "&lt;body&gt;\n",
       "    &lt;div id=&#34;circuit-display-vue-container-d613d063-d811-4646-9cb9-51d7a5af5bb8&#34; class=&#34;pytket-circuit-display-container&#34;&gt;\n",
       "        &lt;div style=&#34;display: none&#34;&gt;\n",
       "            &lt;div id=&#34;circuit-json-to-display&#34;&gt;{&#34;bits&#34;: [[&#34;c&#34;, [0]], [&#34;c&#34;, [1]]], &#34;commands&#34;: [{&#34;args&#34;: [[&#34;q&#34;, [0]]], &#34;op&#34;: {&#34;type&#34;: &#34;H&#34;}}, {&#34;args&#34;: [[&#34;q&#34;, [0]], [&#34;q&#34;, [1]]], &#34;op&#34;: {&#34;type&#34;: &#34;CX&#34;}}, {&#34;args&#34;: [[&#34;q&#34;, [0]], [&#34;c&#34;, [0]]], &#34;op&#34;: {&#34;type&#34;: &#34;Measure&#34;}}, {&#34;args&#34;: [[&#34;q&#34;, [1]], [&#34;c&#34;, [1]]], &#34;op&#34;: {&#34;type&#34;: &#34;Measure&#34;}}], &#34;implicit_permutation&#34;: [[[&#34;q&#34;, [0]], [&#34;q&#34;, [0]]], [[&#34;q&#34;, [1]], [&#34;q&#34;, [1]]]], &#34;phase&#34;: &#34;0.0&#34;, &#34;qubits&#34;: [[&#34;q&#34;, [0]], [&#34;q&#34;, [1]]]}&lt;/div&gt;\n",
       "        &lt;/div&gt;\n",
       "        &lt;circuit-display-container :circuit-element-str=&#34;&#39;#circuit-json-to-display&#39;&#34;&gt;&lt;/circuit-display-container&gt;\n",
       "    &lt;/div&gt;\n",
       "\n",
       "    &lt;script type=&#34;application/javascript&#34;&gt;\n",
       "        const { createApp } = Vue;\n",
       "        const circuitDisplayContainer = window[&#34;pytket-circuit-renderer&#34;].default;\n",
       "\n",
       "        // Init variables to be shared between circuit display instances\n",
       "        if (typeof window.pytketCircuitDisplays === &#34;undefined&#34;) {\n",
       "            window.pytketCircuitDisplays = {};\n",
       "        }\n",
       "\n",
       "        const uid = &#34;d613d063-d811-4646-9cb9-51d7a5af5bb8&#34;;\n",
       "\n",
       "        // Create the root Vue component\n",
       "        window.pytketCircuitDisplays[uid] = createApp({\n",
       "            delimiters: [&#39;[[#&#39;, &#39;#]]&#39;],\n",
       "            components: { circuitDisplayContainer },\n",
       "        }).mount(&#34;#circuit-display-vue-container-&#34;+uid);\n",
       "    &lt;/script&gt;\n",
       "&lt;/body&gt;\n",
       "&lt;/html&gt;\n",
       "\"\n",
       "        width=\"100%\" height=\"200px\"\n",
       "        style=\"border: none; outline: none; resize: vertical; overflow: auto\"></iframe>\n",
       "\n"
      ],
      "text/plain": [
       "<IPython.core.display.HTML object>"
      ]
     },
     "metadata": {},
     "output_type": "display_data"
    }
   ],
   "source": [
    "from pytket import Circuit # import Circuit class\n",
    "from pytket.circuit.display import render_circuit_jupyter # import circuit renderer\n",
    "\n",
    "bell_circ = Circuit(2) # Create an instance of the Circuit class with two qubits\n",
    "bell_circ.H(0) # add a Hadamard gate to the 0th qubit\n",
    "bell_circ.CX(0,1) # add a CX (or CNOT gate) with control qubit 0 and target qubit 1\n",
    "bell_circ.measure_all() # measure all of the qubits in the circuit (This adds two classical registers)\n",
    "\n",
    "render_circuit_jupyter(bell_circ) # visualise the circuit using the circuit renderer"
   ]
  },
  {
   "cell_type": "markdown",
   "id": "e40e8caa",
   "metadata": {},
   "source": [
    "The rendered circuit diagram has user interface icons to the left of the display. These icons cane be used to toggle between different representations of the circuit. Readers familiar with the ZX calculus can view the circuit as a ZX diagram instead of a traditonal quantum circuit."
   ]
  },
  {
   "cell_type": "markdown",
   "id": "e0aa2961",
   "metadata": {},
   "source": [
    "A useful feature of TKET is the ability to work with other popular quantum software tools including qiskit, cirq, AWS Braket and more. Programmers may wish to convert between different types of circuit to use different features of these libraries. Lets define the same Bell circuit as above using Qiskit convert it to a TKET circuit. "
   ]
  },
  {
   "cell_type": "code",
   "execution_count": 1,
   "id": "52dd7698",
   "metadata": {},
   "outputs": [
    {
     "data": {
      "text/html": [
       "<pre style=\"word-wrap: normal;white-space: pre;background: #fff0;line-height: 1.1;font-family: &quot;Courier New&quot;,Courier,monospace\">        ┌───┐      ░ ┌─┐   \n",
       "   q_0: ┤ H ├──■───░─┤M├───\n",
       "        └───┘┌─┴─┐ ░ └╥┘┌─┐\n",
       "   q_1: ─────┤ X ├─░──╫─┤M├\n",
       "             └───┘ ░  ║ └╥┘\n",
       "meas: 2/══════════════╩══╩═\n",
       "                      0  1 </pre>"
      ],
      "text/plain": [
       "        ┌───┐      ░ ┌─┐   \n",
       "   q_0: ┤ H ├──■───░─┤M├───\n",
       "        └───┘┌─┴─┐ ░ └╥┘┌─┐\n",
       "   q_1: ─────┤ X ├─░──╫─┤M├\n",
       "             └───┘ ░  ║ └╥┘\n",
       "meas: 2/══════════════╩══╩═\n",
       "                      0  1 "
      ]
     },
     "execution_count": 1,
     "metadata": {},
     "output_type": "execute_result"
    }
   ],
   "source": [
    "from qiskit import QuantumCircuit\n",
    "\n",
    "qiskit_circ = QuantumCircuit(2)\n",
    "qiskit_circ.h(0)\n",
    "qiskit_circ.cx(0,1)\n",
    "qiskit_circ.measure_all()\n",
    "\n",
    "qiskit_circ.draw()"
   ]
  },
  {
   "cell_type": "markdown",
   "id": "7cacb128",
   "metadata": {},
   "source": [
    "This circuit can now be converted to a TKET circuit using the ``qiskit_to_tk`` function from the pytket-qiskit extension. Note that in qiskit the ``measure_all`` method adds a barrier prior to measurement."
   ]
  },
  {
   "cell_type": "code",
   "execution_count": 21,
   "id": "34836568",
   "metadata": {},
   "outputs": [
    {
     "data": {
      "text/html": [
       "\n",
       "\n",
       "\n",
       "\n",
       "\n",
       "\n",
       "<iframe srcdoc=\"\n",
       "&lt;!DOCTYPE html&gt;\n",
       "&lt;html lang=&#34;en&#34;&gt;\n",
       "&lt;head&gt;\n",
       "    &lt;meta charset=&#34;UTF-8&#34;&gt;\n",
       "\n",
       "    &lt;script type=&#34;application/javascript&#34; src=&#34;https://cdn.jsdelivr.net/npm/vue@3&#34;&gt;&lt;/script&gt;\n",
       "    &lt;script type=&#34;application/javascript&#34; src=&#34;https://unpkg.com/pytket-circuit-renderer@0.1/dist/pytket-circuit-renderer.umd.js&#34;&gt;&lt;/script&gt;\n",
       "    &lt;link rel=&#34;stylesheet&#34; href=&#34;https://unpkg.com/pytket-circuit-renderer@0.1/dist/pytket-circuit-renderer.css&#34;&gt;\n",
       "&lt;/head&gt;\n",
       "&lt;body&gt;\n",
       "    &lt;div id=&#34;circuit-display-vue-container-3e85268f-42bb-42f4-a2df-5e9cbb8b805d&#34; class=&#34;pytket-circuit-display-container&#34;&gt;\n",
       "        &lt;div style=&#34;display: none&#34;&gt;\n",
       "            &lt;div id=&#34;circuit-json-to-display&#34;&gt;{&#34;bits&#34;: [[&#34;meas&#34;, [0]], [&#34;meas&#34;, [1]]], &#34;commands&#34;: [{&#34;args&#34;: [[&#34;q&#34;, [0]]], &#34;op&#34;: {&#34;type&#34;: &#34;H&#34;}}, {&#34;args&#34;: [[&#34;q&#34;, [0]], [&#34;q&#34;, [1]]], &#34;op&#34;: {&#34;type&#34;: &#34;CX&#34;}}, {&#34;args&#34;: [[&#34;q&#34;, [0]], [&#34;q&#34;, [1]]], &#34;op&#34;: {&#34;signature&#34;: [&#34;Q&#34;, &#34;Q&#34;], &#34;type&#34;: &#34;Barrier&#34;}}, {&#34;args&#34;: [[&#34;q&#34;, [0]], [&#34;meas&#34;, [0]]], &#34;op&#34;: {&#34;type&#34;: &#34;Measure&#34;}}, {&#34;args&#34;: [[&#34;q&#34;, [1]], [&#34;meas&#34;, [1]]], &#34;op&#34;: {&#34;type&#34;: &#34;Measure&#34;}}], &#34;implicit_permutation&#34;: [[[&#34;q&#34;, [0]], [&#34;q&#34;, [0]]], [[&#34;q&#34;, [1]], [&#34;q&#34;, [1]]]], &#34;name&#34;: &#34;circuit-1003&#34;, &#34;phase&#34;: &#34;0.0&#34;, &#34;qubits&#34;: [[&#34;q&#34;, [0]], [&#34;q&#34;, [1]]]}&lt;/div&gt;\n",
       "        &lt;/div&gt;\n",
       "        &lt;circuit-display-container :circuit-element-str=&#34;&#39;#circuit-json-to-display&#39;&#34;&gt;&lt;/circuit-display-container&gt;\n",
       "    &lt;/div&gt;\n",
       "\n",
       "    &lt;script type=&#34;application/javascript&#34;&gt;\n",
       "        const { createApp } = Vue;\n",
       "        const circuitDisplayContainer = window[&#34;pytket-circuit-renderer&#34;].default;\n",
       "\n",
       "        // Init variables to be shared between circuit display instances\n",
       "        if (typeof window.pytketCircuitDisplays === &#34;undefined&#34;) {\n",
       "            window.pytketCircuitDisplays = {};\n",
       "        }\n",
       "\n",
       "        const uid = &#34;3e85268f-42bb-42f4-a2df-5e9cbb8b805d&#34;;\n",
       "\n",
       "        // Create the root Vue component\n",
       "        window.pytketCircuitDisplays[uid] = createApp({\n",
       "            delimiters: [&#39;[[#&#39;, &#39;#]]&#39;],\n",
       "            components: { circuitDisplayContainer },\n",
       "        }).mount(&#34;#circuit-display-vue-container-&#34;+uid);\n",
       "    &lt;/script&gt;\n",
       "&lt;/body&gt;\n",
       "&lt;/html&gt;\n",
       "\"\n",
       "        width=\"100%\" height=\"200px\"\n",
       "        style=\"border: none; outline: none; resize: vertical; overflow: auto\"></iframe>\n",
       "\n"
      ],
      "text/plain": [
       "<IPython.core.display.HTML object>"
      ]
     },
     "metadata": {},
     "output_type": "display_data"
    }
   ],
   "source": [
    "from pytket.extensions.qiskit import qiskit_to_tk\n",
    "\n",
    "tk_circ = qiskit_to_tk(qiskit_circ) # convert a qiskit circuit to a TKET circuit using\n",
    "#the qiskit_to_tk function\n",
    "\n",
    "render_circuit_jupyter(tk_circ) # visualise the TKET circuit"
   ]
  },
  {
   "cell_type": "markdown",
   "id": "e9e22d31-0d50-41d2-8d6c-045be0deb87a",
   "metadata": {},
   "source": [
    "Note that there is another function ``tk_to_qiskit`` which converts a circuit from a TKET to a qiskit format. There are also similar conversion functions from other extension modules."
   ]
  },
  {
   "cell_type": "markdown",
   "id": "2d6d7b49",
   "metadata": {},
   "source": [
    "TKET has many extension modules for interfacing with different types of quantum hardware and classical simulators. Let's simulate our Bell circuit using the ``AerBackend`` Simulator from the pytket-qiskit extension. This simulator is noiseless by default."
   ]
  },
  {
   "cell_type": "code",
   "execution_count": 17,
   "id": "3714fecd",
   "metadata": {},
   "outputs": [
    {
     "name": "stdout",
     "output_type": "stream",
     "text": [
      "Counter({(1, 1): 503, (0, 0): 497})\n"
     ]
    }
   ],
   "source": [
    "from pytket.extensions.qiskit import AerBackend # import AerBackend from the pytket-qiskit extension\n",
    "\n",
    "noiseless_backend = AerBackend() # initialise our backend\n",
    "handle = noiseless_backend.process_circuit(bell_circ, n_shots=1000) # process our circuit (1000 shots)\n",
    "result = noiseless_backend.get_result(handle) # retrieve our result using the handle\n",
    "\n",
    "result_counts = result.get_counts() # use get_counts() method to retrieve {shots:counts} dictionary\n",
    "print(result_counts)"
   ]
  },
  {
   "cell_type": "markdown",
   "id": "6508b2bc",
   "metadata": {},
   "source": [
    "As you can see we obtain approximately equal number of counts in the (0,0) and (1,1) basis states. This is what one would expect from measuring the Bell state. Even although the simulator is noiseless we would not expect an exact 50:50 distribution as there as we are still randomly sampling. If you flip a fair coin 1000 times its unlikely to give heads and tails 500 times each!"
   ]
  },
  {
   "cell_type": "markdown",
   "id": "ea2877d2",
   "metadata": {},
   "source": [
    "So far so good. However the experiment we have just performed is simplistic in many ways. Not only have we simulated a trivial circuit but the ``AerBackend`` has no hardware noise and a diverse set of quantum gates available. Furthermore there are no complications introduced by the qubit layout as the ``AerBackend`` has \"all-to-all\" connectivity. In a more realistic quantum experiment all of these considerations will need to be taken into account."
   ]
  },
  {
   "cell_type": "markdown",
   "id": "b0383460",
   "metadata": {},
   "source": [
    "Lets consider a slightly more complex example using a phase estimation circuit. Quantum phase estimation (QPE) is an important subroutine that occurs in many quantum algorithms including Shor's algorithm and Hamiltonian simulation.\n",
    "\n",
    "Phase estimation allows us to estimate the eigenvalue of a unitary operator $U$ applied to some input state. \n",
    "\n",
    "$$ U \\left| \\psi \\right\\rangle = e^{2 \\pi i \\theta} \\left|\\psi \\right \\rangle $$"
   ]
  },
  {
   "cell_type": "markdown",
   "id": "c420944a",
   "metadata": {},
   "source": [
    "The eigenvalue can be expressed as $e^{2 \\pi i \\theta}$ as the eigenvalue of a unitary operator has norm 1. Quantum phase estimation allows us to estimate the phase $\\theta$ which will be encoded in the measurement results."
   ]
  },
  {
   "cell_type": "markdown",
   "id": "07b85b43",
   "metadata": {},
   "source": [
    "We can implement an algorithm to estimate $\\theta$ using some controlled unitary operations along with some swap operations and single qubit gates. We could define this circuit by sequentially adding gates but lets define our circuit using a qasm file (*). For ease of visualisation we will start with a three qubit circuit.\n"
   ]
  },
  {
   "cell_type": "code",
   "execution_count": 7,
   "id": "459d7979",
   "metadata": {},
   "outputs": [
    {
     "data": {
      "text/html": [
       "\n",
       "\n",
       "\n",
       "\n",
       "\n",
       "\n",
       "<iframe srcdoc=\"\n",
       "&lt;!DOCTYPE html&gt;\n",
       "&lt;html lang=&#34;en&#34;&gt;\n",
       "&lt;head&gt;\n",
       "    &lt;meta charset=&#34;UTF-8&#34;&gt;\n",
       "\n",
       "    &lt;script type=&#34;application/javascript&#34; src=&#34;https://cdn.jsdelivr.net/npm/vue@3&#34;&gt;&lt;/script&gt;\n",
       "    &lt;script type=&#34;application/javascript&#34; src=&#34;https://unpkg.com/pytket-circuit-renderer@0.1/dist/pytket-circuit-renderer.umd.js&#34;&gt;&lt;/script&gt;\n",
       "    &lt;link rel=&#34;stylesheet&#34; href=&#34;https://unpkg.com/pytket-circuit-renderer@0.1/dist/pytket-circuit-renderer.css&#34;&gt;\n",
       "&lt;/head&gt;\n",
       "&lt;body&gt;\n",
       "    &lt;div id=&#34;circuit-display-vue-container-7d979958-7d89-41e2-9228-cf2783df5633&#34; class=&#34;pytket-circuit-display-container&#34;&gt;\n",
       "        &lt;div style=&#34;display: none&#34;&gt;\n",
       "            &lt;div id=&#34;circuit-json-to-display&#34;&gt;{&#34;bits&#34;: [[&#34;c&#34;, [0]], [&#34;c&#34;, [1]]], &#34;commands&#34;: [{&#34;args&#34;: [[&#34;q&#34;, [0]]], &#34;op&#34;: {&#34;type&#34;: &#34;H&#34;}}, {&#34;args&#34;: [[&#34;q&#34;, [1]]], &#34;op&#34;: {&#34;type&#34;: &#34;H&#34;}}, {&#34;args&#34;: [[&#34;q&#34;, [2]]], &#34;op&#34;: {&#34;type&#34;: &#34;X&#34;}}, {&#34;args&#34;: [[&#34;q&#34;, [1]], [&#34;q&#34;, [2]]], &#34;op&#34;: {&#34;params&#34;: [&#34;0.25&#34;], &#34;type&#34;: &#34;CU1&#34;}}, {&#34;args&#34;: [[&#34;q&#34;, [0]], [&#34;q&#34;, [2]]], &#34;op&#34;: {&#34;params&#34;: [&#34;0.25&#34;], &#34;type&#34;: &#34;CU1&#34;}}, {&#34;args&#34;: [[&#34;q&#34;, [0]], [&#34;q&#34;, [2]]], &#34;op&#34;: {&#34;params&#34;: [&#34;0.25&#34;], &#34;type&#34;: &#34;CU1&#34;}}, {&#34;args&#34;: [[&#34;q&#34;, [0]], [&#34;q&#34;, [1]]], &#34;op&#34;: {&#34;type&#34;: &#34;SWAP&#34;}}, {&#34;args&#34;: [[&#34;q&#34;, [1]]], &#34;op&#34;: {&#34;type&#34;: &#34;H&#34;}}, {&#34;args&#34;: [[&#34;q&#34;, [1]], [&#34;q&#34;, [0]]], &#34;op&#34;: {&#34;params&#34;: [&#34;1.5&#34;], &#34;type&#34;: &#34;CU1&#34;}}, {&#34;args&#34;: [[&#34;q&#34;, [1]], [&#34;c&#34;, [1]]], &#34;op&#34;: {&#34;type&#34;: &#34;Measure&#34;}}, {&#34;args&#34;: [[&#34;q&#34;, [0]]], &#34;op&#34;: {&#34;type&#34;: &#34;H&#34;}}, {&#34;args&#34;: [[&#34;q&#34;, [0]], [&#34;c&#34;, [0]]], &#34;op&#34;: {&#34;type&#34;: &#34;Measure&#34;}}], &#34;implicit_permutation&#34;: [[[&#34;q&#34;, [0]], [&#34;q&#34;, [0]]], [[&#34;q&#34;, [1]], [&#34;q&#34;, [1]]], [[&#34;q&#34;, [2]], [&#34;q&#34;, [2]]]], &#34;phase&#34;: &#34;0.0&#34;, &#34;qubits&#34;: [[&#34;q&#34;, [0]], [&#34;q&#34;, [1]], [&#34;q&#34;, [2]]]}&lt;/div&gt;\n",
       "        &lt;/div&gt;\n",
       "        &lt;circuit-display-container :circuit-element-str=&#34;&#39;#circuit-json-to-display&#39;&#34;&gt;&lt;/circuit-display-container&gt;\n",
       "    &lt;/div&gt;\n",
       "\n",
       "    &lt;script type=&#34;application/javascript&#34;&gt;\n",
       "        const { createApp } = Vue;\n",
       "        const circuitDisplayContainer = window[&#34;pytket-circuit-renderer&#34;].default;\n",
       "\n",
       "        // Init variables to be shared between circuit display instances\n",
       "        if (typeof window.pytketCircuitDisplays === &#34;undefined&#34;) {\n",
       "            window.pytketCircuitDisplays = {};\n",
       "        }\n",
       "\n",
       "        const uid = &#34;7d979958-7d89-41e2-9228-cf2783df5633&#34;;\n",
       "\n",
       "        // Create the root Vue component\n",
       "        window.pytketCircuitDisplays[uid] = createApp({\n",
       "            delimiters: [&#39;[[#&#39;, &#39;#]]&#39;],\n",
       "            components: { circuitDisplayContainer },\n",
       "        }).mount(&#34;#circuit-display-vue-container-&#34;+uid);\n",
       "    &lt;/script&gt;\n",
       "&lt;/body&gt;\n",
       "&lt;/html&gt;\n",
       "\"\n",
       "        width=\"100%\" height=\"200px\"\n",
       "        style=\"border: none; outline: none; resize: vertical; overflow: auto\"></iframe>\n",
       "\n"
      ],
      "text/plain": [
       "<IPython.core.display.HTML object>"
      ]
     },
     "metadata": {},
     "output_type": "display_data"
    }
   ],
   "source": [
    "from pytket.qasm import circuit_from_qasm\n",
    "\n",
    "qpe2_circ = circuit_from_qasm('qpe2.qasm') # qpe circuit with two measurement qubits and one phase qubit.\n",
    "render_circuit_jupyter(qpe2_circ)"
   ]
  },
  {
   "cell_type": "markdown",
   "id": "cb072279-8c7b-4fe8-bf13-ac74d973a40e",
   "metadata": {},
   "source": [
    "<div class=\"alert alert-block alert-warning\">\n",
    "<b>Exercise:</b> We have defined this QPE circuit using a qasm file. Can you construct the circuit using pytket? Read more about the structure of phase estimation circuits and see if you can define a function that returns a quantum phase estimation circuit that measure the phase on a single qunit using $n$ measurement qubits.\n",
    "</div>"
   ]
  },
  {
   "cell_type": "markdown",
   "id": "3d07f714",
   "metadata": {},
   "source": [
    "Our circuit contains single qubit gates (Hadamard and X gates) as well as multi-qubit SWAP and CU1 gates. To read more about how these gates are defined click `here`. We can also count the number of gates in our circuit as follows using the OpType enum."
   ]
  },
  {
   "cell_type": "code",
   "execution_count": 8,
   "id": "6dcf2999",
   "metadata": {},
   "outputs": [
    {
     "name": "stdout",
     "output_type": "stream",
     "text": [
      "Gate count =  12\n",
      "Two qubit gate count =  5\n"
     ]
    }
   ],
   "source": [
    "from pytket import OpType\n",
    "\n",
    "print('Gate count = ' , qpe2_circ.n_gates)\n",
    "print('Two qubit gate count = ', qpe2_circ.n_gates_of_type(OpType.CU1) +\n",
    " qpe2_circ.n_gates_of_type(OpType.SWAP))"
   ]
  },
  {
   "cell_type": "markdown",
   "id": "d08d7e8a",
   "metadata": {},
   "source": [
    "Gate count is a natural metric to keep track of when compiling quantum circuits. The two qubit gate count is particularly important to bear in mind as these gates can be roughly an order of magnitude noisier and slower to implement on hardware than single qubit gates. In fact much of circuit optimisation focuses on reducing the two qubit gate count as we shall see shortly."
   ]
  },
  {
   "cell_type": "markdown",
   "id": "ab35b39d",
   "metadata": {},
   "source": [
    "## Understanding Device constraints"
   ]
  },
  {
   "cell_type": "markdown",
   "id": "63d78f70",
   "metadata": {},
   "source": [
    "From now on we will consider a phase estimation circuit with an extra qubit (and lots of extra gates!). This will hopefully make certain points around circuit compilation clearer."
   ]
  },
  {
   "cell_type": "code",
   "execution_count": 9,
   "id": "93a7cdfa",
   "metadata": {},
   "outputs": [
    {
     "data": {
      "text/html": [
       "\n",
       "\n",
       "\n",
       "\n",
       "\n",
       "\n",
       "<iframe srcdoc=\"\n",
       "&lt;!DOCTYPE html&gt;\n",
       "&lt;html lang=&#34;en&#34;&gt;\n",
       "&lt;head&gt;\n",
       "    &lt;meta charset=&#34;UTF-8&#34;&gt;\n",
       "\n",
       "    &lt;script type=&#34;application/javascript&#34; src=&#34;https://cdn.jsdelivr.net/npm/vue@3&#34;&gt;&lt;/script&gt;\n",
       "    &lt;script type=&#34;application/javascript&#34; src=&#34;https://unpkg.com/pytket-circuit-renderer@0.1/dist/pytket-circuit-renderer.umd.js&#34;&gt;&lt;/script&gt;\n",
       "    &lt;link rel=&#34;stylesheet&#34; href=&#34;https://unpkg.com/pytket-circuit-renderer@0.1/dist/pytket-circuit-renderer.css&#34;&gt;\n",
       "&lt;/head&gt;\n",
       "&lt;body&gt;\n",
       "    &lt;div id=&#34;circuit-display-vue-container-6036bab7-3ff0-4c3f-8766-99261b3eb2ea&#34; class=&#34;pytket-circuit-display-container&#34;&gt;\n",
       "        &lt;div style=&#34;display: none&#34;&gt;\n",
       "            &lt;div id=&#34;circuit-json-to-display&#34;&gt;{&#34;bits&#34;: [[&#34;c&#34;, [0]], [&#34;c&#34;, [1]], [&#34;c&#34;, [2]]], &#34;commands&#34;: [{&#34;args&#34;: [[&#34;q&#34;, [0]]], &#34;op&#34;: {&#34;type&#34;: &#34;H&#34;}}, {&#34;args&#34;: [[&#34;q&#34;, [1]]], &#34;op&#34;: {&#34;type&#34;: &#34;H&#34;}}, {&#34;args&#34;: [[&#34;q&#34;, [2]]], &#34;op&#34;: {&#34;type&#34;: &#34;H&#34;}}, {&#34;args&#34;: [[&#34;q&#34;, [3]]], &#34;op&#34;: {&#34;type&#34;: &#34;X&#34;}}, {&#34;args&#34;: [[&#34;q&#34;, [2]], [&#34;q&#34;, [3]]], &#34;op&#34;: {&#34;params&#34;: [&#34;0.25&#34;], &#34;type&#34;: &#34;CU1&#34;}}, {&#34;args&#34;: [[&#34;q&#34;, [1]], [&#34;q&#34;, [3]]], &#34;op&#34;: {&#34;params&#34;: [&#34;0.25&#34;], &#34;type&#34;: &#34;CU1&#34;}}, {&#34;args&#34;: [[&#34;q&#34;, [1]], [&#34;q&#34;, [3]]], &#34;op&#34;: {&#34;params&#34;: [&#34;0.25&#34;], &#34;type&#34;: &#34;CU1&#34;}}, {&#34;args&#34;: [[&#34;q&#34;, [0]], [&#34;q&#34;, [3]]], &#34;op&#34;: {&#34;params&#34;: [&#34;0.25&#34;], &#34;type&#34;: &#34;CU1&#34;}}, {&#34;args&#34;: [[&#34;q&#34;, [0]], [&#34;q&#34;, [3]]], &#34;op&#34;: {&#34;params&#34;: [&#34;0.25&#34;], &#34;type&#34;: &#34;CU1&#34;}}, {&#34;args&#34;: [[&#34;q&#34;, [0]], [&#34;q&#34;, [3]]], &#34;op&#34;: {&#34;params&#34;: [&#34;0.25&#34;], &#34;type&#34;: &#34;CU1&#34;}}, {&#34;args&#34;: [[&#34;q&#34;, [0]], [&#34;q&#34;, [3]]], &#34;op&#34;: {&#34;params&#34;: [&#34;0.25&#34;], &#34;type&#34;: &#34;CU1&#34;}}, {&#34;args&#34;: [[&#34;q&#34;, [0]], [&#34;q&#34;, [2]]], &#34;op&#34;: {&#34;type&#34;: &#34;SWAP&#34;}}, {&#34;args&#34;: [[&#34;q&#34;, [2]]], &#34;op&#34;: {&#34;type&#34;: &#34;H&#34;}}, {&#34;args&#34;: [[&#34;q&#34;, [2]], [&#34;q&#34;, [1]]], &#34;op&#34;: {&#34;params&#34;: [&#34;1.5&#34;], &#34;type&#34;: &#34;CU1&#34;}}, {&#34;args&#34;: [[&#34;q&#34;, [2]], [&#34;q&#34;, [0]]], &#34;op&#34;: {&#34;params&#34;: [&#34;1.75&#34;], &#34;type&#34;: &#34;CU1&#34;}}, {&#34;args&#34;: [[&#34;q&#34;, [1]]], &#34;op&#34;: {&#34;type&#34;: &#34;H&#34;}}, {&#34;args&#34;: [[&#34;q&#34;, [2]], [&#34;c&#34;, [2]]], &#34;op&#34;: {&#34;type&#34;: &#34;Measure&#34;}}, {&#34;args&#34;: [[&#34;q&#34;, [1]], [&#34;q&#34;, [0]]], &#34;op&#34;: {&#34;params&#34;: [&#34;1.5&#34;], &#34;type&#34;: &#34;CU1&#34;}}, {&#34;args&#34;: [[&#34;q&#34;, [1]], [&#34;c&#34;, [1]]], &#34;op&#34;: {&#34;type&#34;: &#34;Measure&#34;}}, {&#34;args&#34;: [[&#34;q&#34;, [0]]], &#34;op&#34;: {&#34;type&#34;: &#34;H&#34;}}, {&#34;args&#34;: [[&#34;q&#34;, [0]], [&#34;c&#34;, [0]]], &#34;op&#34;: {&#34;type&#34;: &#34;Measure&#34;}}], &#34;implicit_permutation&#34;: [[[&#34;q&#34;, [0]], [&#34;q&#34;, [0]]], [[&#34;q&#34;, [1]], [&#34;q&#34;, [1]]], [[&#34;q&#34;, [2]], [&#34;q&#34;, [2]]], [[&#34;q&#34;, [3]], [&#34;q&#34;, [3]]]], &#34;phase&#34;: &#34;0.0&#34;, &#34;qubits&#34;: [[&#34;q&#34;, [0]], [&#34;q&#34;, [1]], [&#34;q&#34;, [2]], [&#34;q&#34;, [3]]]}&lt;/div&gt;\n",
       "        &lt;/div&gt;\n",
       "        &lt;circuit-display-container :circuit-element-str=&#34;&#39;#circuit-json-to-display&#39;&#34;&gt;&lt;/circuit-display-container&gt;\n",
       "    &lt;/div&gt;\n",
       "\n",
       "    &lt;script type=&#34;application/javascript&#34;&gt;\n",
       "        const { createApp } = Vue;\n",
       "        const circuitDisplayContainer = window[&#34;pytket-circuit-renderer&#34;].default;\n",
       "\n",
       "        // Init variables to be shared between circuit display instances\n",
       "        if (typeof window.pytketCircuitDisplays === &#34;undefined&#34;) {\n",
       "            window.pytketCircuitDisplays = {};\n",
       "        }\n",
       "\n",
       "        const uid = &#34;6036bab7-3ff0-4c3f-8766-99261b3eb2ea&#34;;\n",
       "\n",
       "        // Create the root Vue component\n",
       "        window.pytketCircuitDisplays[uid] = createApp({\n",
       "            delimiters: [&#39;[[#&#39;, &#39;#]]&#39;],\n",
       "            components: { circuitDisplayContainer },\n",
       "        }).mount(&#34;#circuit-display-vue-container-&#34;+uid);\n",
       "    &lt;/script&gt;\n",
       "&lt;/body&gt;\n",
       "&lt;/html&gt;\n",
       "\"\n",
       "        width=\"100%\" height=\"200px\"\n",
       "        style=\"border: none; outline: none; resize: vertical; overflow: auto\"></iframe>\n",
       "\n"
      ],
      "text/plain": [
       "<IPython.core.display.HTML object>"
      ]
     },
     "metadata": {},
     "output_type": "display_data"
    },
    {
     "name": "stdout",
     "output_type": "stream",
     "text": [
      "Gate count =  21\n",
      "Two qubit gate count =  11\n"
     ]
    }
   ],
   "source": [
    "qpe3_circ = circuit_from_qasm('qpe3.qasm') # qpe circuit with three measurement qubits and one phase qubit.\n",
    "render_circuit_jupyter(qpe3_circ)\n",
    "\n",
    "print('Gate count = ' , qpe3_circ.n_gates)\n",
    "print('Two qubit gate count = ', qpe3_circ.n_gates_of_type(OpType.CU1) +\n",
    " qpe3_circ.n_gates_of_type(OpType.SWAP))"
   ]
  },
  {
   "cell_type": "markdown",
   "id": "5b3abd08",
   "metadata": {},
   "source": [
    "Lets now think about how to run our phase estimation circuit on an actual quantum computer (or at the very least a more realistic simulator! ) Lets use the ``IBMQEmulatorBackend`` from the ``pytket-qiskit`` extension. This is a simulator that attempts to capture the noise of real IBM superconducting device (The IBMQ Belem device is used here). To make our experiment more realitic our circuit must satisfy all the constraints of the real device in order to run on the simulator."
   ]
  },
  {
   "cell_type": "code",
   "execution_count": 10,
   "id": "680f46f9",
   "metadata": {},
   "outputs": [],
   "source": [
    "from pytket.extensions.qiskit import IBMQEmulatorBackend\n",
    "\n",
    "IBMQ_belem_backend = IBMQEmulatorBackend('ibmq_belem', hub='partner-cqc', group='internal', project='default') # initialise IBMQEmulatorBackend for the Belem device"
   ]
  },
  {
   "cell_type": "markdown",
   "id": "bc0e7bda",
   "metadata": {},
   "source": [
    "Quantum devices and emulators will support a small but universial set of quantum gates. Before we can run a circuit on this IBM emulator our circuit must be in the correct gateset. To see which gates are supported we can use the ``backend_info.gate_set`` attribute of our backend."
   ]
  },
  {
   "cell_type": "code",
   "execution_count": 11,
   "id": "6878341a",
   "metadata": {},
   "outputs": [
    {
     "name": "stdout",
     "output_type": "stream",
     "text": [
      "{<OpType.Rz: 33>, <OpType.U3: 34>, <OpType.U2: 35>, <OpType.U1: 36>, <OpType.CX: 39>, <OpType.Reset: 60>, <OpType.X: 20>, <OpType.noop: 57>, <OpType.Measure: 58>, <OpType.SX: 28>}\n"
     ]
    }
   ],
   "source": [
    "IBM_gateset = IBMQ_belem_backend.backend_info.gate_set\n",
    "print(IBM_gateset)"
   ]
  },
  {
   "cell_type": "markdown",
   "id": "f3d9016a",
   "metadata": {},
   "source": [
    "Notice how the CU1, H and SWAP operations are not in our ``IBM_gateset`` (the X gate is). This means we will have to find some way to translate our circuit to the gates that are supported by our backend. Note that the numbers next to each OpType are simply indices in the enum and are not properties of the device itself."
   ]
  },
  {
   "cell_type": "markdown",
   "id": "75658020",
   "metadata": {},
   "source": [
    "An additional constraint that is sometimes forgotten is the circuit connectivity. Textbook presentations of quantum algorithms often assume that all of the qubits a circuit can interact with one another freely. However when it comes to real quantum devices this may not be the case. For instance the IBM Belem device only allows interaction between qubits which are next to each other. This means that additional gates must be inserted into our circuit in order to realise all of the interactions in our phase estimation circuit."
   ]
  },
  {
   "cell_type": "markdown",
   "id": "9717c32d",
   "metadata": {},
   "source": [
    "We can visualise the connectivity of our phase estimation circuit by looking at the interaction graph. In an interaction graph the qubits in our circuit are represented by the vertices of the graph. Two vertices are connected by an edge if there is a multi-qubit gate acting between the two qubits represented by the vertices."
   ]
  },
  {
   "cell_type": "code",
   "execution_count": 15,
   "id": "330e9d72",
   "metadata": {},
   "outputs": [
    {
     "data": {
      "image/svg+xml": [
       "<?xml version=\"1.0\" encoding=\"UTF-8\" standalone=\"no\"?>\n",
       "<!DOCTYPE svg PUBLIC \"-//W3C//DTD SVG 1.1//EN\"\n",
       " \"http://www.w3.org/Graphics/SVG/1.1/DTD/svg11.dtd\">\n",
       "<!-- Generated by graphviz version 3.0.0 (20220226.1711)\n",
       " -->\n",
       "<!-- Title: Qubit connectivity Pages: 1 -->\n",
       "<svg width=\"142pt\" height=\"142pt\"\n",
       " viewBox=\"0.00 0.00 142.21 142.28\" xmlns=\"http://www.w3.org/2000/svg\" xmlns:xlink=\"http://www.w3.org/1999/xlink\">\n",
       "<g id=\"graph0\" class=\"graph\" transform=\"scale(1 1) rotate(0) translate(4 138.28)\">\n",
       "<title>Qubit connectivity</title>\n",
       "<polygon fill=\"white\" stroke=\"transparent\" points=\"-4,4 -4,-138.28 138.21,-138.28 138.21,4 -4,4\"/>\n",
       "<!-- q[2] -->\n",
       "<g id=\"node1\" class=\"node\">\n",
       "<title>q[2]</title>\n",
       "<ellipse fill=\"none\" stroke=\"blue\" cx=\"24.14\" cy=\"-60.77\" rx=\"24.27\" ry=\"24.27\"/>\n",
       "<text text-anchor=\"middle\" x=\"24.14\" y=\"-58.27\" font-family=\"Courier,monospace\" font-size=\"10.00\">q[2]</text>\n",
       "</g>\n",
       "<!-- q[3] -->\n",
       "<g id=\"node2\" class=\"node\">\n",
       "<title>q[3]</title>\n",
       "<ellipse fill=\"none\" stroke=\"blue\" cx=\"110.07\" cy=\"-73.49\" rx=\"24.27\" ry=\"24.27\"/>\n",
       "<text text-anchor=\"middle\" x=\"110.07\" y=\"-70.99\" font-family=\"Courier,monospace\" font-size=\"10.00\">q[3]</text>\n",
       "</g>\n",
       "<!-- q[2]&#45;&#45;q[3] -->\n",
       "<g id=\"edge1\" class=\"edge\">\n",
       "<title>q[2]&#45;&#45;q[3]</title>\n",
       "<path fill=\"none\" stroke=\"black\" d=\"M48.07,-64.31C59.89,-66.06 74.12,-68.17 85.96,-69.92\"/>\n",
       "</g>\n",
       "<!-- q[0] -->\n",
       "<g id=\"node3\" class=\"node\">\n",
       "<title>q[0]</title>\n",
       "<ellipse fill=\"none\" stroke=\"blue\" cx=\"73.43\" cy=\"-24.14\" rx=\"24.27\" ry=\"24.27\"/>\n",
       "<text text-anchor=\"middle\" x=\"73.43\" y=\"-21.64\" font-family=\"Courier,monospace\" font-size=\"10.00\">q[0]</text>\n",
       "</g>\n",
       "<!-- q[2]&#45;&#45;q[0] -->\n",
       "<g id=\"edge2\" class=\"edge\">\n",
       "<title>q[2]&#45;&#45;q[0]</title>\n",
       "<path fill=\"none\" stroke=\"black\" d=\"M43.62,-46.29C46.95,-43.81 50.42,-41.23 53.76,-38.75\"/>\n",
       "</g>\n",
       "<!-- q[1] -->\n",
       "<g id=\"node4\" class=\"node\">\n",
       "<title>q[1]</title>\n",
       "<ellipse fill=\"none\" stroke=\"blue\" cx=\"60.69\" cy=\"-110.15\" rx=\"24.27\" ry=\"24.27\"/>\n",
       "<text text-anchor=\"middle\" x=\"60.69\" y=\"-107.65\" font-family=\"Courier,monospace\" font-size=\"10.00\">q[1]</text>\n",
       "</g>\n",
       "<!-- q[2]&#45;&#45;q[1] -->\n",
       "<g id=\"edge3\" class=\"edge\">\n",
       "<title>q[2]&#45;&#45;q[1]</title>\n",
       "<path fill=\"none\" stroke=\"black\" d=\"M38.58,-80.28C41.06,-83.63 43.63,-87.1 46.11,-90.45\"/>\n",
       "</g>\n",
       "<!-- q[3]&#45;&#45;q[0] -->\n",
       "<g id=\"edge5\" class=\"edge\">\n",
       "<title>q[3]&#45;&#45;q[0]</title>\n",
       "<path fill=\"none\" stroke=\"black\" d=\"M95.59,-53.98C93.11,-50.64 90.53,-47.17 88.04,-43.82\"/>\n",
       "</g>\n",
       "<!-- q[3]&#45;&#45;q[1] -->\n",
       "<g id=\"edge4\" class=\"edge\">\n",
       "<title>q[3]&#45;&#45;q[1]</title>\n",
       "<path fill=\"none\" stroke=\"black\" d=\"M90.55,-87.98C87.21,-90.46 83.74,-93.04 80.39,-95.52\"/>\n",
       "</g>\n",
       "<!-- q[1]&#45;&#45;q[0] -->\n",
       "<g id=\"edge6\" class=\"edge\">\n",
       "<title>q[1]&#45;&#45;q[0]</title>\n",
       "<path fill=\"none\" stroke=\"black\" d=\"M64.24,-86.19C65.99,-74.36 68.1,-60.12 69.85,-48.26\"/>\n",
       "</g>\n",
       "</g>\n",
       "</svg>\n"
      ],
      "text/plain": [
       "<graphviz.graphs.Graph at 0x7f7ab85ef760>"
      ]
     },
     "execution_count": 15,
     "metadata": {},
     "output_type": "execute_result"
    }
   ],
   "source": [
    "from pytket.utils import Graph\n",
    "\n",
    "Graph(qpe3_circ).get_qubit_graph() # Visualise the connectivity of our \"program qubits\""
   ]
  },
  {
   "cell_type": "markdown",
   "id": "0595b39c",
   "metadata": {},
   "source": [
    "Notice how we have all possible interactions between our qubits. Put differently, our interaction graph is \n",
    "the complete graph $K_4$. Lets now take a look at how our qubits are laid out on the device itself. Bear in mind that only nearest-neighbor interaction is permitted between the qubits."
   ]
  },
  {
   "cell_type": "code",
   "execution_count": 16,
   "id": "423da584",
   "metadata": {},
   "outputs": [
    {
     "data": {
      "image/png": "[encoded data removed]",
      "text/plain": [
       "<Figure size 144x144 with 1 Axes>"
      ]
     },
     "metadata": {},
     "output_type": "display_data"
    }
   ],
   "source": [
    "import networkx as nx\n",
    "import matplotlib.pyplot as plt\n",
    "\n",
    "G = nx.Graph(IBMQ_belem_backend.backend_info.architecture.coupling) # interaction graph as a networkx graph\n",
    "plt.figure(figsize=(2,2))\n",
    "nx.draw(G)\n",
    "plt.show() # Visualise how the qubits are laid out on the device"
   ]
  },
  {
   "cell_type": "markdown",
   "id": "0ef14249",
   "metadata": {},
   "source": [
    "Notice how the connectivity of the device is places restrictions on the gates that can be performed. We will need to add additional SWAP gates to our circuits to realise the interactions in our phase estimation circuit. The problem of satisfying circuit connectivity without adding too many extra gates is called the **qubit routing problem** [ref]. We will not consider routing in detail in what follows (Perhaps in a forthcoming blog post!)."
   ]
  },
  {
   "cell_type": "markdown",
   "id": "1545f73e",
   "metadata": {},
   "source": [
    "## Circuit Compilation with the Quantinuum Backend."
   ]
  },
  {
   "cell_type": "markdown",
   "id": "cd64ed8a",
   "metadata": {},
   "source": [
    "Now that we understand more about the restrictions imposed by quantum hardware lets find out how TKET can solve for our device constraints and even optimise our circuit for better performance."
   ]
  },
  {
   "cell_type": "markdown",
   "id": "62f564a9",
   "metadata": {},
   "source": [
    "TKET is designed to make working with different hardware platforms as seamless as possible. In fact there are numerous extension modules that allow the user to interface with a range of quantum hardware. This enables the user to try out the pros and cons of different hardware platforms as they come online without having to rewrite their code."
   ]
  },
  {
   "cell_type": "markdown",
   "id": "1677a2d2",
   "metadata": {},
   "source": [
    "To demonstrate this lets compile our phase estimation circuit for a Quantinuum ion trap device. Lets initialise our new backend and see which gates it supports."
   ]
  },
  {
   "cell_type": "code",
   "execution_count": 14,
   "id": "f90d7bbe",
   "metadata": {},
   "outputs": [
    {
     "name": "stdin",
     "output_type": "stream",
     "text": [
      "Enter your Quantinuum email:  callum.macpherson@cambridgequantum.com\n",
      "Enter your Quantinuum password:  ···············\n"
     ]
    },
    {
     "name": "stdout",
     "output_type": "stream",
     "text": [
      "{<OpType.ZZMax: 65>, <OpType.Rz: 33>, <OpType.ZZPhase: 68>, <OpType.Barrier: 6>, <OpType.WASM: 12>, <OpType.SetBits: 13>, <OpType.CopyBits: 14>, <OpType.RangePredicate: 15>, <OpType.ExplicitPredicate: 16>, <OpType.ExplicitModifier: 17>, <OpType.MultiBit: 18>, <OpType.ClassicalExpBox: 87>, <OpType.Measure: 58>, <OpType.Reset: 60>, <OpType.PhasedX: 63>}\n"
     ]
    }
   ],
   "source": [
    "from pytket.extensions.quantinuum import QuantinuumBackend \n",
    "\n",
    "H1E_backend = QuantinuumBackend('H1-1E') # emulator for the H1 ion trap device\n",
    "gate_set = H1E_backend.backend_info.gate_set\n",
    "print(gate_set)"
   ]
  },
  {
   "cell_type": "markdown",
   "id": "752fa3cf",
   "metadata": {},
   "source": [
    "We see that the Quantiunuum native gate set is {ZZMax, Rz, PhasedX, ZZPhase}. TKET can translate automatically to the target gate set by using the ``get_complied_circuit`` method for our ``QuantinuumBackend``. Lets do this translation and see how it effects the number of gates in our circuit."
   ]
  },
  {
   "cell_type": "code",
   "execution_count": null,
   "id": "6602cdbe",
   "metadata": {},
   "outputs": [],
   "source": [
    "compiled_circuit = H1E_backend.get_compiled_circuit(qpe3_circ)\n",
    "render_circuit_jupyter(compiled_circuit)\n",
    "\n",
    "print('Gate count = ', compiled_circuit.n_gates)\n",
    "print('Two qubit gate count = ', compiled_circuit.n_gates_of_type(OpType.ZZMax))"
   ]
  },
  {
   "cell_type": "markdown",
   "id": "f828a81d",
   "metadata": {},
   "source": [
    "Notice how the circuit has now been transformed to the Quantinuum native gateset. This compilation has also significantly increased our gatecount. Compare with our original QPE circuit with 21 gates and 11 two qubit gates! "
   ]
  },
  {
   "cell_type": "markdown",
   "id": "ae78fbae",
   "metadata": {},
   "source": [
    "On noisy hardware more gates means more errors will accumulate over the course of our computation introduce additional noise in our results. This motivates the idea of circuit optimisation. The question aries - how can we compile our circuit to our target device without adding too many extra noisy gates?"
   ]
  },
  {
   "cell_type": "markdown",
   "id": "afa435da",
   "metadata": {},
   "source": [
    "Pytket can optimise circuits in numerous ways. Each pytket ``Backend`` object has a method called ``default_compilation_pass``. This method applies a predefined sequence of optimistaions to our circuit that is tailor made for each device. \n",
    "\n",
    "This method also takes an ``optimistaion_level`` parameter. Setting ``opimisation_level=1`` will solve for the device constraints and apply some light optimsisation. The highest level of optimisation (``optimisation_level=2``) applies intensive optimisations but may take longer to run for large circuits. \n",
    "\n",
    "Lets now apply this default compilation pass to our circuit with the highest level of optimisation available and see how this effects our gate count."
   ]
  },
  {
   "cell_type": "code",
   "execution_count": null,
   "id": "50f6435f",
   "metadata": {},
   "outputs": [],
   "source": [
    "qpe3_circ = circuit_from_qasm('qpe3.qasm')\n",
    "\n",
    "H1E_backend.default_compilation_pass(optimisation_level=2).apply(qpe3_circ)\n",
    "\n",
    "render_circuit_jupyter(qpe3_circ)\n",
    "\n",
    "print('Gate count = ', qpe3_circ.n_gates)\n",
    "print('Two qubit gate count = ', qpe3_circ.n_gates_of_type(OpType.ZZMax))"
   ]
  },
  {
   "cell_type": "markdown",
   "id": "96a14351",
   "metadata": {},
   "source": [
    "We now see a substantial reduction in the gate count compared with the naively compiled circuit. The two qubit gate count is more than halved which will reduce the noise in our results when we run our circuit.\n",
    "\n",
    "We have managed to find an implementation of our phase estimation circuit that meets our hardware constraints and does not have any additional two qubit gates introduced in the compilation process.\n",
    "\n",
    "In this tutorial we have made use of the predefined circuit transformations applied by the ``get_compiled_circuit`` and ``default_compilation_pass`` methods. TKET also supports user defined sequences of optimisations which will be covered in another tutorial."
   ]
  },
  {
   "cell_type": "markdown",
   "id": "92319631",
   "metadata": {},
   "source": [
    "## Applying Circuit Optimisation in an Experiment"
   ]
  },
  {
   "cell_type": "markdown",
   "id": "85287f81",
   "metadata": {},
   "source": [
    "Lets finish off by comparing the results of a phase estimation experiment before and after circuit optimisation is applied. In the plot below a bigger circuit phase estimation circuit was run on the ``IBMQEmulatorBackend``."
   ]
  },
  {
   "cell_type": "markdown",
   "id": "045e32a6",
   "metadata": {},
   "source": [
    "This was a [5+1] qubit phase estimation experiment performed on an emulator for the IBMQ Guadalupe device with 1000 shots. In this experiment the expected output is the (0,1,1,0,1) basis state. This is our measurement result from which we can extract the phase $\\theta$ .\n",
    "\n",
    "\n",
    "We perform the experiment first with a circuit obtained using the ``get_compiled_circuit`` method for the IBM backend.\n",
    "\n",
    "Next we apply a sequence of optimisations to our circuit to optimise it for our chosen backend"
   ]
  },
  {
   "cell_type": "markdown",
   "id": "5acd2c8c-f9d4-4c2f-b980-d7df6f6677ba",
   "metadata": {},
   "source": [
    "<div class=\"alert alert-block alert-info\">\n",
    "<b>Circuit info:</b>\n",
    "  <ol>\n",
    "    <li>Circuit 1: (Before optimisation) - 226 total quantum gates,  118 CX gates, CX Depth = 105 </li>\n",
    "    <li>Circuit 2: (After optimisation) -   154 total quantum gates,  60 CX gates, CX Depth = 48 </li>\n",
    " </ol>\n",
    "    \n",
    "The second circuit has approximately half the CX Depth and gate count when compared with the first. Given this we would expect the second set of results to be less corrupted by noise with more of our measurements returning the \"correct\" result. \n",
    "</div>"
   ]
  },
  {
   "cell_type": "markdown",
   "id": "a1a79569",
   "metadata": {},
   "source": [
    "<center><img src=\"qpe_results_comparison.png\" style=width:1622px;height:400px /></center>"
   ]
  },
  {
   "cell_type": "markdown",
   "id": "ba03c9e5",
   "metadata": {},
   "source": [
    "We observe that the number proportion of measurements that give the \"correct\" result has notably increased (from 255/1000 to 532/1000). Equivalently we could say that the success probability of our algorithm has increased from 25.5% to 53.2%. The \"incorrect\" measurement results shown by the orange bars are also suppressed by the optimisation.\n",
    "\n",
    "The improved results reflect the reduced noise in the computation. This tells us that our sequence of optimisations has been an effective way to mitigate noise in our circuit. "
   ]
  },
  {
   "cell_type": "markdown",
   "id": "56854ae4",
   "metadata": {},
   "source": [
    "## Conclusion\n",
    "\n",
    "In this blog post we have discussed some challenges with near term quantum computing and introduced TKET as a quantum compiler. We have also learned how to construct and optimise quantum circuits for different backends. "
   ]
  },
  {
   "cell_type": "markdown",
   "id": "6634a931",
   "metadata": {},
   "source": [
    "## Useful Links "
   ]
  },
  {
   "cell_type": "markdown",
   "id": "fea7440f",
   "metadata": {},
   "source": [
    "- pytket user manual --> https://cqcl.github.io/pytket/manual/index.html\n",
    "- pytket notebook examples --> https://github.com/CQCL/pytket/tree/main/examples"
   ]
  },
  {
   "cell_type": "markdown",
   "id": "968b58b6",
   "metadata": {},
   "source": [
    "## Further reading\n",
    "\n",
    "- TKET white paper --> https://arxiv.org/abs/2003.10611\n",
    "- More theory background on quantum phase estimation --> Nielsen & Chuang Chapter 5, (p221-226)"
   ]
  }
 ],
 "metadata": {
  "kernelspec": {
   "display_name": "Python 3 (ipykernel)",
   "language": "python",
   "name": "python3"
  },
  "language_info": {
   "codemirror_mode": {
    "name": "ipython",
    "version": 3
   },
   "file_extension": ".py",
   "mimetype": "text/x-python",
   "name": "python",
   "nbconvert_exporter": "python",
   "pygments_lexer": "ipython3",
   "version": "3.8.8"
  },
  "vscode": {
   "interpreter": {
    "hash": "40d3a090f54c6569ab1632332b64b2c03c39dcf918b08424e98f38b5ae0af88f"
   }
  }
 },
 "nbformat": 4,
 "nbformat_minor": 5
}
